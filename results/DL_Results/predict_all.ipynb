{
 "cells": [
  {
   "cell_type": "code",
   "execution_count": 4,
   "metadata": {},
   "outputs": [],
   "source": [
    "import os\n",
    "from os import listdir\n",
    "from os.path import isfile, join\n",
    "from shutil import copy2\n",
    "#from tqdm import tqdm #pip install tqdm\n",
    "import progressbar #pip install progressbar2\n",
    "import tensorflow as tf\n",
    "import numpy as np\n",
    "import pandas as pd\n",
    "import glob,cv2\n",
    "import sys,argparse\n",
    "from sklearn.metrics import accuracy_score\n",
    "from sklearn.metrics import classification_report\n",
    "from sklearn.metrics import precision_recall_fscore_support as score\n",
    "\n",
    "tf.logging.set_verbosity(tf.logging.ERROR)"
   ]
  },
  {
   "cell_type": "code",
   "execution_count": 5,
   "metadata": {},
   "outputs": [],
   "source": [
    "def predict(filename):\n",
    "    #filename = dir_path +'/' +image_path\n",
    "    input_height = 1\n",
    "    input_width = 20\n",
    "    num_channels = 1\n",
    "\n",
    "    mylist = []\n",
    "    \n",
    "    tmp_df = pd.read_csv('binary_attr_jarhead.csv')\n",
    "\n",
    "    #print('Now going to read {} files (Index: {})'.format(fields, index))\n",
    "\n",
    "    head, tail = os.path.split(filename)\n",
    "    string_ = tail.split(\"_\")\n",
    "    #index_list = tmp_df[(tmp_df['file']== (string_[0]+'.jar'))].index.tolist()\n",
    "    index_list = tmp_df[tmp_df['file'].str.contains(string_[0])==True].index.tolist()\n",
    "\n",
    "    if not index_list:\n",
    "        print('Not in jarhead',filename)\n",
    "        raise SystemExit()\n",
    "    else:\n",
    "        mylist.append(((tmp_df.loc[index_list]).iloc[0,1:]).values)\n",
    "\n",
    "    #The input to the network is of shape [None,input_height,input_width,num_channels]. Hence we reshape.\n",
    "    row = np.array(mylist)\n",
    "    x_batch = row[0].reshape(1,input_height,input_width,num_channels)\n",
    "\n",
    "    image_size=128\n",
    "    img_num_channels=3\n",
    "    images = []\n",
    "    # Reading the image using OpenCV\n",
    "    image = cv2.imread(filename)\n",
    "    # Resizing the image to our desired size and preprocessing will be done exactly as done during training\n",
    "    image = cv2.resize(image, (image_size, image_size),0,0, cv2.INTER_LINEAR)\n",
    "    images.append(image)\n",
    "    images = np.array(images, dtype=np.uint8)\n",
    "    images = images.astype('float32')\n",
    "    images = np.multiply(images, 1.0/255.0) \n",
    "    #The input to the network is of shape [None image_size image_size img_num_channels]. Hence we reshape.\n",
    "    x_batch_img = images.reshape(1, image_size,image_size,img_num_channels)\n",
    "\n",
    "    ## Let us restore the saved model\n",
    "    sess = tf.Session()\n",
    "    # Step-1: Recreate the network graph. At this step only graph is created.\n",
    "    saver = tf.train.import_meta_graph('benign-malicious-model.meta')\n",
    "    # Step-2: Now let's load the weights saved using the restore method.\n",
    "    saver.restore(sess, tf.train.latest_checkpoint('./'))\n",
    "\n",
    "    # Accessing the default graph which we have restored\n",
    "    graph = tf.get_default_graph()\n",
    "\n",
    "    # Now, let's get hold of the op that we can be processed to get the output.\n",
    "    # In the original network y_pred is the tensor that is the prediction of the network\n",
    "    y_pred = graph.get_tensor_by_name(\"y_pred:0\")\n",
    "\n",
    "    ## Let's feed the images to the input placeholders\n",
    "    x = graph.get_tensor_by_name(\"x:0\")\n",
    "    x_img = graph.get_tensor_by_name(\"x_img:0\") \n",
    "    y_true = graph.get_tensor_by_name(\"y_true:0\") \n",
    "    y_test_images = np.zeros((1, 2)) \n",
    "\n",
    "    ### Creating the feed_dict that is required to be fed to calculate y_pred \n",
    "    feed_dict_testing = {x: x_batch, x_img: x_batch_img, y_true: y_test_images}\n",
    "    result=sess.run(y_pred, feed_dict=feed_dict_testing)\n",
    "    # result is of this format [probabiliy_of_benign probability_of_malicious]\n",
    "    #print(result)\n",
    "    return np.argmax(result, axis=1)[0]"
   ]
  },
  {
   "cell_type": "code",
   "execution_count": 6,
   "metadata": {},
   "outputs": [
    {
     "name": "stderr",
     "output_type": "stream",
     "text": [
      " 99% (417 of 418) |##################### | Elapsed Time: 1:32:11 ETA:   0:00:17"
     ]
    }
   ],
   "source": [
    "column = ['file','gt_result','jh_result']\n",
    "df_jh_part = pd.DataFrame(columns=column)\n",
    "jar_loc = ['testing_data/benign/',\n",
    "           'testing_data/malicious/']\n",
    "for loc in jar_loc:\n",
    "    index = jar_loc.index(loc)\n",
    "    onlyfiles = [f for f in listdir(loc) if isfile(join(loc, f))]\n",
    "    #print(len(onlyfiles))\n",
    "    progress = progressbar.ProgressBar()\n",
    "    for file,i in zip(onlyfiles, progress(range(len(onlyfiles)))):\n",
    "        df_jh_part = df_jh_part.append({'file':file,\n",
    "                                        'gt_result':index,\n",
    "                                        'jh_result':predict(loc+file)},\n",
    "                                       ignore_index=True)"
   ]
  },
  {
   "cell_type": "code",
   "execution_count": 7,
   "metadata": {},
   "outputs": [
    {
     "data": {
      "text/plain": [
       "(781, 3)"
      ]
     },
     "execution_count": 7,
     "metadata": {},
     "output_type": "execute_result"
    }
   ],
   "source": [
    "df_jh_part.shape"
   ]
  },
  {
   "cell_type": "code",
   "execution_count": 8,
   "metadata": {},
   "outputs": [
    {
     "name": "stdout",
     "output_type": "stream",
     "text": [
      "precision: [0.98347107 0.98564593]\n",
      "recall: [0.98347107 0.98564593]\n",
      "fscore: [0.98347107 0.98564593]\n",
      "support: [363 418] \n",
      "\n",
      "             precision    recall  f1-score   support\n",
      "\n",
      "          0       0.98      0.98      0.98       363\n",
      "          1       0.99      0.99      0.99       418\n",
      "\n",
      "avg / total       0.98      0.98      0.98       781\n",
      "\n",
      "accuracy 0.9846350832266325\n"
     ]
    }
   ],
   "source": [
    "gt = df_jh_part['gt_result'].tolist()\n",
    "jh = df_jh_part['jh_result'].tolist()\n",
    "\n",
    "precision, recall, fscore, support = score(gt, jh)\n",
    "\n",
    "print('precision: {}'.format(precision))\n",
    "print('recall: {}'.format(recall))\n",
    "print('fscore: {}'.format(fscore))\n",
    "print('support: {}'.format(support),'\\n')\n",
    "\n",
    "print(classification_report(gt, jh))\n",
    "print('accuracy', accuracy_score(gt, jh))"
   ]
  },
  {
   "cell_type": "code",
   "execution_count": 11,
   "metadata": {},
   "outputs": [
    {
     "data": {
      "text/plain": [
       "(357, 6, 6, 412)"
      ]
     },
     "execution_count": 11,
     "metadata": {},
     "output_type": "execute_result"
    }
   ],
   "source": [
    "from sklearn.metrics import confusion_matrix\n",
    "import matplotlib.pyplot as plt  \n",
    "tn, fp, fn, tp = confusion_matrix(gt, jh).ravel()\n",
    "tn, fp, fn, tp"
   ]
  },
  {
   "cell_type": "code",
   "execution_count": 12,
   "metadata": {},
   "outputs": [
    {
     "name": "stdout",
     "output_type": "stream",
     "text": [
      "[[357   6]\n",
      " [  6 412]]\n"
     ]
    },
    {
     "data": {
      "image/png": "[encoded data removed]",
      "text/plain": [
       "<Figure size 432x288 with 2 Axes>"
      ]
     },
     "metadata": {},
     "output_type": "display_data"
    }
   ],
   "source": [
    "labels = [0, 1]\n",
    "cm = confusion_matrix(gt, jh, labels)\n",
    "print(cm)\n",
    "fig = plt.figure()\n",
    "ax = fig.add_subplot(111)\n",
    "cax = ax.matshow(cm)\n",
    "plt.title('Confusion matrix of the classifier')\n",
    "fig.colorbar(cax)\n",
    "ax.set_xticklabels([''] + labels)\n",
    "ax.set_yticklabels([''] + labels)\n",
    "plt.xlabel('Predicted')\n",
    "plt.ylabel('True')\n",
    "plt.show()"
   ]
  },
  {
   "cell_type": "code",
   "execution_count": 13,
   "metadata": {},
   "outputs": [
    {
     "data": {
      "image/png": "[encoded data removed]",
      "text/plain": [
       "<Figure size 432x288 with 2 Axes>"
      ]
     },
     "metadata": {},
     "output_type": "display_data"
    }
   ],
   "source": [
    "import seaborn as sns\n",
    "ax= plt.subplot()\n",
    "sns.heatmap(cm, annot=True, fmt='g', ax=ax);  #annot=True to annotate cells, ftm='g' to disable scientific notation\n",
    "\n",
    "# labels, title and ticks\n",
    "ax.set_xlabel('Predicted labels');ax.set_ylabel('True labels'); \n",
    "#ax.set_title('Confusion Matrix'); \n",
    "ax.xaxis.set_ticklabels(['benign', 'malicious']); ax.yaxis.set_ticklabels(['benign', 'malicious']);\n",
    "ax.figure.savefig('ConfusionMatrix.eps', format='eps')\n"
   ]
  },
  {
   "cell_type": "code",
   "execution_count": null,
   "metadata": {},
   "outputs": [],
   "source": []
  }
 ],
 "metadata": {
  "kernelspec": {
   "display_name": "Python 3",
   "language": "python",
   "name": "python3"
  },
  "language_info": {
   "codemirror_mode": {
    "name": "ipython",
    "version": 3
   },
   "file_extension": ".py",
   "mimetype": "text/x-python",
   "name": "python",
   "nbconvert_exporter": "python",
   "pygments_lexer": "ipython3",
   "version": "3.6.5"
  }
 },
 "nbformat": 4,
 "nbformat_minor": 2
}
