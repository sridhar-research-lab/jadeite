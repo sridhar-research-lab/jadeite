{
 "cells": [
  {
   "cell_type": "code",
   "execution_count": 3,
   "metadata": {},
   "outputs": [
    {
     "name": "stdout",
     "output_type": "stream",
     "text": [
      "WARNING:tensorflow:From /home/iobaidat/anaconda3/lib/python3.8/site-packages/tensorflow/python/compat/v2_compat.py:96: disable_resource_variables (from tensorflow.python.ops.variable_scope) is deprecated and will be removed in a future version.\n",
      "Instructions for updating:\n",
      "non-resource variables are not supported in the long term\n"
     ]
    }
   ],
   "source": [
    "import os\n",
    "from os import listdir\n",
    "from os.path import isfile, join\n",
    "from shutil import copy2\n",
    "#from tqdm import tqdm #pip install tqdm\n",
    "import progressbar #pip install progressbar2\n",
    "\n",
    "#import tensorflow as tf\n",
    "import tensorflow.compat.v1 as tf\n",
    "tf.disable_v2_behavior()\n",
    "\n",
    "import numpy as np\n",
    "import pandas as pd\n",
    "import glob,cv2\n",
    "import sys,argparse\n",
    "from sklearn.metrics import accuracy_score\n",
    "from sklearn.metrics import classification_report\n",
    "from sklearn.metrics import precision_recall_fscore_support as score\n",
    "\n",
    "tf.logging.set_verbosity(tf.logging.ERROR)"
   ]
  },
  {
   "cell_type": "code",
   "execution_count": 4,
   "metadata": {},
   "outputs": [],
   "source": [
    "def predict(filename):\n",
    "    image_size=128\n",
    "    num_channels=3\n",
    "    images = []\n",
    "    # Reading the image using OpenCV\n",
    "    image = cv2.imread(filename)\n",
    "    # Resizing the image to our desired size and preprocessing will be done exactly as done during training\n",
    "    image = cv2.resize(image, (image_size, image_size),0,0, cv2.INTER_LINEAR)\n",
    "    images.append(image)\n",
    "    images = np.array(images, dtype=np.uint8)\n",
    "    images = images.astype('float32')\n",
    "    images = np.multiply(images, 1.0/255.0) \n",
    "    #The input to the network is of shape [None image_size image_size num_channels]. Hence we reshape.\n",
    "    x_batch = images.reshape(1, image_size,image_size,num_channels)\n",
    "\n",
    "    ## Let us restore the saved model \n",
    "    sess = tf.Session()\n",
    "    # Step-1: Recreate the network graph. At this step only graph is created.\n",
    "    saver = tf.train.import_meta_graph('benign-malicious-model.meta')\n",
    "    # Step-2: Now let's load the weights saved using the restore method.\n",
    "    saver.restore(sess, tf.train.latest_checkpoint('./'))\n",
    "\n",
    "    # Accessing the default graph which we have restored\n",
    "    graph = tf.get_default_graph()\n",
    "\n",
    "    # Now, let's get hold of the op that we can be processed to get the output.\n",
    "    # In the original network y_pred is the tensor that is the prediction of the network\n",
    "    y_pred = graph.get_tensor_by_name(\"y_pred:0\")\n",
    "\n",
    "    ## Let's feed the images to the input placeholders\n",
    "    x= graph.get_tensor_by_name(\"x:0\") \n",
    "    y_true = graph.get_tensor_by_name(\"y_true:0\") \n",
    "    y_test_images = np.zeros((1, 2)) \n",
    "\n",
    "    ### Creating the feed_dict that is required to be fed to calculate y_pred \n",
    "    feed_dict_testing = {x: x_batch, y_true: y_test_images}\n",
    "    result=sess.run(y_pred, feed_dict=feed_dict_testing)\n",
    "    # result is of this format [probabiliy_of_benign probability_of_malicious]\n",
    "    #print(result)\n",
    "    return np.argmax(result, axis=1)[0]"
   ]
  },
  {
   "cell_type": "code",
   "execution_count": 5,
   "metadata": {},
   "outputs": [
    {
     "name": "stderr",
     "output_type": "stream",
     "text": [
      " 99% (417 of 418) |##################### | Elapsed Time: 1:38:27 ETA:   0:00:19"
     ]
    }
   ],
   "source": [
    "column = ['file','gt_result','jh_result']\n",
    "df_jh_part = pd.DataFrame(columns=column)\n",
    "jar_loc = ['testing_data/benign/',\n",
    "           'testing_data/malicious/']\n",
    "for loc in jar_loc:\n",
    "    index = jar_loc.index(loc)\n",
    "    onlyfiles = [f for f in listdir(loc) if isfile(join(loc, f))]\n",
    "    #print(len(onlyfiles))\n",
    "    progress = progressbar.ProgressBar()\n",
    "    for file,i in zip(onlyfiles, progress(range(len(onlyfiles)))):\n",
    "        df_jh_part = df_jh_part.append({'file':file,\n",
    "                                        'gt_result':index,\n",
    "                                        'jh_result':predict(loc+file)},\n",
    "                                       ignore_index=True)"
   ]
  },
  {
   "cell_type": "code",
   "execution_count": 6,
   "metadata": {},
   "outputs": [
    {
     "data": {
      "text/plain": [
       "(781, 3)"
      ]
     },
     "execution_count": 6,
     "metadata": {},
     "output_type": "execute_result"
    }
   ],
   "source": [
    "df_jh_part.shape"
   ]
  },
  {
   "cell_type": "code",
   "execution_count": 7,
   "metadata": {},
   "outputs": [
    {
     "name": "stdout",
     "output_type": "stream",
     "text": [
      "precision: [0.92857143 0.97022333]\n",
      "recall: [0.96694215 0.9354067 ]\n",
      "fscore: [0.94736842 0.95249695]\n",
      "support: [363 418] \n",
      "\n",
      "              precision    recall  f1-score   support\n",
      "\n",
      "           0       0.93      0.97      0.95       363\n",
      "           1       0.97      0.94      0.95       418\n",
      "\n",
      "    accuracy                           0.95       781\n",
      "   macro avg       0.95      0.95      0.95       781\n",
      "weighted avg       0.95      0.95      0.95       781\n",
      "\n",
      "accuracy 0.9500640204865557\n"
     ]
    }
   ],
   "source": [
    "gt = df_jh_part['gt_result'].tolist()\n",
    "jh = df_jh_part['jh_result'].tolist()\n",
    "\n",
    "precision, recall, fscore, support = score(gt, jh)\n",
    "\n",
    "print('precision: {}'.format(precision))\n",
    "print('recall: {}'.format(recall))\n",
    "print('fscore: {}'.format(fscore))\n",
    "print('support: {}'.format(support),'\\n')\n",
    "\n",
    "print(classification_report(gt, jh))\n",
    "print('accuracy', accuracy_score(gt, jh))"
   ]
  },
  {
   "cell_type": "code",
   "execution_count": null,
   "metadata": {},
   "outputs": [],
   "source": []
  },
  {
   "cell_type": "code",
   "execution_count": null,
   "metadata": {},
   "outputs": [],
   "source": []
  }
 ],
 "metadata": {
  "kernelspec": {
   "display_name": "Python 3",
   "language": "python",
   "name": "python3"
  },
  "language_info": {
   "codemirror_mode": {
    "name": "ipython",
    "version": 3
   },
   "file_extension": ".py",
   "mimetype": "text/x-python",
   "name": "python",
   "nbconvert_exporter": "python",
   "pygments_lexer": "ipython3",
   "version": "3.8.10"
  }
 },
 "nbformat": 4,
 "nbformat_minor": 2
}
